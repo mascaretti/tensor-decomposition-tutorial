{
 "cells": [
  {
   "cell_type": "markdown",
   "metadata": {},
   "source": [
    "# Tensor Decomposition\n",
    "A \"hands-on\" tutorial with TensorLy\n",
    "\n",
    "- [Tensorly](http://tensorly.org/stable/index.html) is a Python library that aims at making it _easy_ to work with tensors.\n",
    "- It comprises a set of tools to perform **tensor decomposition**, **tensor learning** and **tensor algebra**"
   ]
  },
  {
   "cell_type": "code",
   "execution_count": 1,
   "metadata": {},
   "outputs": [],
   "source": [
    "import tensorly as tl\n",
    "from tensorly.decomposition import parafac\n",
    "import numpy as np"
   ]
  },
  {
   "cell_type": "markdown",
   "metadata": {},
   "source": [
    "# Creating a Tensor\n",
    "\n",
    "Tensors can be represented in different ways. One possibility is to see them as juxtaposed matrices.\n",
    "\n",
    "## Example\n",
    "Let us consider a tensor $X$, defined by its frontal slices, $X_{1}$ and $X_{2}$.\n",
    "\n",
    "We have\n",
    "\n",
    "$$X_{1} = \\begin{bmatrix}\n",
    "0 & 2 & 4 & 6\\\\\n",
    "8 & 10 & 12 & 14\n",
    "\\\\ 16 & 18 & 20 & 22\n",
    "\\end{bmatrix}$$\n",
    "\n",
    "and\n",
    "\n",
    "$$X_{2} = \\begin{bmatrix}\n",
    "1 & 3 & 5 & 7\\\\\n",
    "9 & 11 & 13 & 15\n",
    "\\\\ 17 & 19 & 21 & 23\n",
    "\\end{bmatrix}.$$\n",
    "\n",
    "\n",
    "We can easily obtain this as a [NumPy](https://numpy.org/) array:"
   ]
  },
  {
   "cell_type": "code",
   "execution_count": 2,
   "metadata": {},
   "outputs": [],
   "source": [
    "X = tl.tensor(np.arange(24).reshape((3, 4, 2)), dtype = tl.float32)"
   ]
  },
  {
   "cell_type": "code",
   "execution_count": 3,
   "metadata": {},
   "outputs": [
    {
     "data": {
      "text/plain": [
       "array([[[ 0.,  1.],\n",
       "        [ 2.,  3.],\n",
       "        [ 4.,  5.],\n",
       "        [ 6.,  7.]],\n",
       "\n",
       "       [[ 8.,  9.],\n",
       "        [10., 11.],\n",
       "        [12., 13.],\n",
       "        [14., 15.]],\n",
       "\n",
       "       [[16., 17.],\n",
       "        [18., 19.],\n",
       "        [20., 21.],\n",
       "        [22., 23.]]], dtype=float32)"
      ]
     },
     "execution_count": 3,
     "metadata": {},
     "output_type": "execute_result"
    }
   ],
   "source": [
    "X"
   ]
  },
  {
   "cell_type": "markdown",
   "metadata": {},
   "source": [
    "It is possible to then view the frontal slices by fixing the last axis."
   ]
  },
  {
   "cell_type": "code",
   "execution_count": 4,
   "metadata": {},
   "outputs": [
    {
     "data": {
      "text/plain": [
       "array([[ 0.,  2.,  4.,  6.],\n",
       "       [ 8., 10., 12., 14.],\n",
       "       [16., 18., 20., 22.]], dtype=float32)"
      ]
     },
     "execution_count": 4,
     "metadata": {},
     "output_type": "execute_result"
    }
   ],
   "source": [
    "X[:, :, 0]"
   ]
  },
  {
   "cell_type": "markdown",
   "metadata": {},
   "source": [
    "and, of course, the back slice."
   ]
  },
  {
   "cell_type": "code",
   "execution_count": 5,
   "metadata": {},
   "outputs": [
    {
     "data": {
      "text/plain": [
       "array([[ 1.,  3.,  5.,  7.],\n",
       "       [ 9., 11., 13., 15.],\n",
       "       [17., 19., 21., 23.]], dtype=float32)"
      ]
     },
     "execution_count": 5,
     "metadata": {},
     "output_type": "execute_result"
    }
   ],
   "source": [
    "X[:, :, 1]"
   ]
  },
  {
   "cell_type": "markdown",
   "metadata": {},
   "source": [
    "# Different backends\n",
    "In TensorLy, it is possible to set different backends.\n",
    "In practice, this means that the set of tools exposed to the user is always the same, but the manner in which the various operations are computed changes.\n",
    "\n",
    "For instance, we might be interested in using the [PyTorch](https://pytorch.org/) backend, to exploit the GPU by means of [CUDA](https://developer.nvidia.com/CUDA-zone)"
   ]
  },
  {
   "cell_type": "code",
   "execution_count": 6,
   "metadata": {},
   "outputs": [
    {
     "data": {
      "text/plain": [
       "numpy.ndarray"
      ]
     },
     "execution_count": 6,
     "metadata": {},
     "output_type": "execute_result"
    }
   ],
   "source": [
    "type(X)"
   ]
  },
  {
   "cell_type": "code",
   "execution_count": 7,
   "metadata": {},
   "outputs": [],
   "source": [
    "tl.set_backend('pytorch')"
   ]
  },
  {
   "cell_type": "code",
   "execution_count": 8,
   "metadata": {},
   "outputs": [
    {
     "data": {
      "text/plain": [
       "torch.Tensor"
      ]
     },
     "execution_count": 8,
     "metadata": {},
     "output_type": "execute_result"
    }
   ],
   "source": [
    "X = tl.tensor(np.arange(24).reshape((3, 4, 2)), device='cuda:0')\n",
    "type(X)"
   ]
  },
  {
   "cell_type": "markdown",
   "metadata": {},
   "source": [
    "We will set it to NumPy for the rest of the tutorial though."
   ]
  },
  {
   "cell_type": "code",
   "execution_count": 9,
   "metadata": {},
   "outputs": [],
   "source": [
    "tl.set_backend(\"numpy\")"
   ]
  },
  {
   "cell_type": "code",
   "execution_count": 10,
   "metadata": {},
   "outputs": [
    {
     "data": {
      "text/plain": [
       "numpy.ndarray"
      ]
     },
     "execution_count": 10,
     "metadata": {},
     "output_type": "execute_result"
    }
   ],
   "source": [
    "X = tl.tensor(np.arange(24).reshape((3, 4, 2)))\n",
    "type(X)"
   ]
  },
  {
   "cell_type": "markdown",
   "metadata": {},
   "source": [
    "# Basic Operations\n",
    "## Unfolding\n",
    "\n",
    "Unfolding consists in rewriting the tensor as a juxtaposition of matrices.\n",
    "\n",
    "Notice that to maintain consistency with Python's zero-based index system, **we start from 0**.\n",
    "\n",
    "We had $X$ defined by:\n",
    "\n",
    "$$X_{1} = \\begin{bmatrix}\n",
    "0 & 2 & 4 & 6\\\\\n",
    "8 & 10 & 12 & 14\n",
    "\\\\ 16 & 18 & 20 & 22\n",
    "\\end{bmatrix}$$\n",
    "\n",
    "and\n",
    "\n",
    "$$X_{2} = \\begin{bmatrix}\n",
    "1 & 3 & 5 & 7\\\\\n",
    "9 & 11 & 13 & 15\n",
    "\\\\ 17 & 19 & 21 & 23\n",
    "\\end{bmatrix}.$$\n",
    "\n",
    "The 0-mode unfolding of it is:\n",
    "\n",
    "$$X_{\\left[0\\right]} = \\begin{bmatrix}\n",
    "0 & 1 & 2 & 3 & 4 & 5 & 6 & 7\\\\\n",
    "8 & 9 & 10 & 11 & 12 & 13 & 14 & 15\\\\\n",
    "16 & 17 & 18 & 19 & 20 & 21 & 22 & 23\\\\\n",
    "\\end{bmatrix}\n",
    "$$\n",
    "\n",
    "The 1-mode unfolding is:\n",
    "$$X_{\\left[1\\right]} = \\begin{bmatrix}\n",
    "0 & 1 & 8 & 9 & 16 & 17\\\\\n",
    "2 & 3 & 10 & 11 & 18 & 19\\\\\n",
    "4 & 5 & 12 & 13 & 20 & 21\\\\\n",
    "6 & 7 & 14 & 15 & 22 & 23\\\\\n",
    "\\end{bmatrix}\n",
    "$$\n",
    "\n",
    "And, of course, the 2-mode unfolding is along the last axis.\n",
    "$$X_{\\left[2\\right]} = \\begin{bmatrix}\n",
    "0 & 2 & 4 & 6 & 8 & 10 & 12 & 4 & 16 & 18 & 20 & 22\\\\\n",
    "1 & 3 & 5 & 7 & 9 & 11 & 13 & 15 & 17 & 19 & 21 & 23\n",
    "\\end{bmatrix}\n",
    "$$\n",
    "\n",
    "### TensorLy\n",
    "We simply do:"
   ]
  },
  {
   "cell_type": "code",
   "execution_count": 11,
   "metadata": {},
   "outputs": [
    {
     "data": {
      "text/plain": [
       "array([[ 0,  1,  2,  3,  4,  5,  6,  7],\n",
       "       [ 8,  9, 10, 11, 12, 13, 14, 15],\n",
       "       [16, 17, 18, 19, 20, 21, 22, 23]])"
      ]
     },
     "execution_count": 11,
     "metadata": {},
     "output_type": "execute_result"
    }
   ],
   "source": [
    "tl.unfold(X, mode = 0)"
   ]
  },
  {
   "cell_type": "code",
   "execution_count": 12,
   "metadata": {},
   "outputs": [
    {
     "data": {
      "text/plain": [
       "array([[ 0,  1,  8,  9, 16, 17],\n",
       "       [ 2,  3, 10, 11, 18, 19],\n",
       "       [ 4,  5, 12, 13, 20, 21],\n",
       "       [ 6,  7, 14, 15, 22, 23]])"
      ]
     },
     "execution_count": 12,
     "metadata": {},
     "output_type": "execute_result"
    }
   ],
   "source": [
    "tl.unfold(X, mode = 1)"
   ]
  },
  {
   "cell_type": "code",
   "execution_count": 13,
   "metadata": {},
   "outputs": [
    {
     "data": {
      "text/plain": [
       "array([[ 0,  2,  4,  6,  8, 10, 12, 14, 16, 18, 20, 22],\n",
       "       [ 1,  3,  5,  7,  9, 11, 13, 15, 17, 19, 21, 23]])"
      ]
     },
     "execution_count": 13,
     "metadata": {},
     "output_type": "execute_result"
    }
   ],
   "source": [
    "tl.unfold(X, mode = 2)"
   ]
  },
  {
   "cell_type": "markdown",
   "metadata": {},
   "source": [
    "# Outer Product"
   ]
  },
  {
   "cell_type": "markdown",
   "metadata": {},
   "source": [
    "We now compute the outer product between two arrays:\n",
    "\n",
    "$$ x = \\begin{bmatrix}\n",
    "2 \\\\\n",
    "5 \\\\\n",
    "\\end{bmatrix}\n",
    "$$\n",
    "\n",
    "and \n",
    "\n",
    "$$y = \\begin{bmatrix}\n",
    "9\\\\\n",
    "10\\\\\n",
    "\\end{bmatrix}.\n",
    "$$"
   ]
  },
  {
   "cell_type": "code",
   "execution_count": 14,
   "metadata": {},
   "outputs": [
    {
     "data": {
      "text/plain": [
       "array([2, 5])"
      ]
     },
     "execution_count": 14,
     "metadata": {},
     "output_type": "execute_result"
    }
   ],
   "source": [
    "x = tl.tensor(np.array([2, 5]))\n",
    "x"
   ]
  },
  {
   "cell_type": "code",
   "execution_count": 15,
   "metadata": {},
   "outputs": [
    {
     "data": {
      "text/plain": [
       "array([ 9, 10])"
      ]
     },
     "execution_count": 15,
     "metadata": {},
     "output_type": "execute_result"
    }
   ],
   "source": [
    "y = tl.tensor(np.array([9, 10]))\n",
    "y"
   ]
  },
  {
   "cell_type": "markdown",
   "metadata": {},
   "source": [
    "We obtain\n",
    "\n",
    "$$ X = x \\otimes y = xy^{t} = \\begin{bmatrix}18 & 20\\\\ 45 & 50 \\end{bmatrix}.$$"
   ]
  },
  {
   "cell_type": "code",
   "execution_count": 16,
   "metadata": {},
   "outputs": [],
   "source": [
    "X = tl.tenalg.tensor_dot(x, y)"
   ]
  },
  {
   "cell_type": "code",
   "execution_count": 17,
   "metadata": {},
   "outputs": [
    {
     "data": {
      "text/plain": [
       "array([[18, 20],\n",
       "       [45, 50]])"
      ]
     },
     "execution_count": 17,
     "metadata": {},
     "output_type": "execute_result"
    }
   ],
   "source": [
    "X"
   ]
  },
  {
   "cell_type": "code",
   "execution_count": null,
   "metadata": {},
   "outputs": [],
   "source": []
  }
 ],
 "metadata": {
  "kernelspec": {
   "display_name": "tensor",
   "language": "python",
   "name": "tensor"
  },
  "language_info": {
   "codemirror_mode": {
    "name": "ipython",
    "version": 3
   },
   "file_extension": ".py",
   "mimetype": "text/x-python",
   "name": "python",
   "nbconvert_exporter": "python",
   "pygments_lexer": "ipython3",
   "version": "3.9.1"
  },
  "toc-autonumbering": true,
  "toc-showtags": false
 },
 "nbformat": 4,
 "nbformat_minor": 4
}
