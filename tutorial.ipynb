{
 "cells": [
  {
   "cell_type": "markdown",
   "metadata": {},
   "source": [
    "# Tensor Decomposition\n",
    "A \"hands-on\" tutorial with TensorLy\n",
    "\n",
    "- [Tensorly](http://tensorly.org/stable/index.html) is a Python library that aims at making it _easy_ to work with tensors.\n",
    "- It comprises a set of tools to perform **tensor decomposition**, **tensor learning** and **tensor algebra**"
   ]
  },
  {
   "cell_type": "code",
   "execution_count": null,
   "metadata": {},
   "outputs": [],
   "source": [
    "import tensorly as tl\n",
    "from tensorly.decomposition import parafac\n",
    "from tensorly.decomposition import tucker\n",
    "import numpy as np\n",
    "from scipy.stats import norm\n",
    "import pandas as pd\n",
    "import seaborn as sns\n",
    "import matplotlib.pyplot as plt\n",
    "from scipy.misc import face\n",
    "from scipy.ndimage import zoom\n",
    "from math import ceil\n",
    "\n",
    "np.random.seed(19930316)\n",
    "random_state = 12345"
   ]
  },
  {
   "cell_type": "markdown",
   "metadata": {},
   "source": [
    "# Creating a Tensor\n",
    "\n",
    "Tensors can be represented in different ways. One possibility is to see them as juxtaposed matrices.\n",
    "\n",
    "## Example\n",
    "Let us consider a tensor $X$, defined by its frontal slices, $X_{1}$ and $X_{2}$.\n",
    "\n",
    "We have\n",
    "\n",
    "$$X_{1} = \\begin{bmatrix}\n",
    "0 & 2 & 4 & 6\\\\\n",
    "8 & 10 & 12 & 14\n",
    "\\\\ 16 & 18 & 20 & 22\n",
    "\\end{bmatrix}$$\n",
    "\n",
    "and\n",
    "\n",
    "$$X_{2} = \\begin{bmatrix}\n",
    "1 & 3 & 5 & 7\\\\\n",
    "9 & 11 & 13 & 15\n",
    "\\\\ 17 & 19 & 21 & 23\n",
    "\\end{bmatrix}.$$\n",
    "\n",
    "\n",
    "We can easily obtain this as a [NumPy](https://numpy.org/) array:"
   ]
  },
  {
   "cell_type": "code",
   "execution_count": null,
   "metadata": {},
   "outputs": [],
   "source": [
    "X = tl.tensor(np.arange(24).reshape((3, 4, 2)), dtype = tl.float32)"
   ]
  },
  {
   "cell_type": "code",
   "execution_count": null,
   "metadata": {},
   "outputs": [],
   "source": [
    "X"
   ]
  },
  {
   "cell_type": "markdown",
   "metadata": {},
   "source": [
    "It is possible to then view the frontal slices by fixing the last axis."
   ]
  },
  {
   "cell_type": "code",
   "execution_count": null,
   "metadata": {},
   "outputs": [],
   "source": [
    "X[:, :, 0]"
   ]
  },
  {
   "cell_type": "markdown",
   "metadata": {},
   "source": [
    "and, of course, the back slice."
   ]
  },
  {
   "cell_type": "code",
   "execution_count": null,
   "metadata": {},
   "outputs": [],
   "source": [
    "X[:, :, 1]"
   ]
  },
  {
   "cell_type": "markdown",
   "metadata": {},
   "source": [
    "# Different backends\n",
    "In TensorLy, it is possible to set different backends.\n",
    "In practice, this means that the set of tools exposed to the user is always the same, but the manner in which the various operations are computed changes.\n",
    "\n",
    "For instance, we might be interested in using the [PyTorch](https://pytorch.org/) backend, to exploit the GPU by means of [CUDA](https://developer.nvidia.com/CUDA-zone)"
   ]
  },
  {
   "cell_type": "code",
   "execution_count": null,
   "metadata": {},
   "outputs": [],
   "source": [
    "type(X)"
   ]
  },
  {
   "cell_type": "code",
   "execution_count": null,
   "metadata": {},
   "outputs": [],
   "source": [
    "tl.set_backend('pytorch')"
   ]
  },
  {
   "cell_type": "code",
   "execution_count": null,
   "metadata": {},
   "outputs": [],
   "source": [
    "X = tl.tensor(np.arange(24).reshape((3, 4, 2)))\n",
    "type(X)"
   ]
  },
  {
   "cell_type": "markdown",
   "metadata": {},
   "source": [
    "We will set it to NumPy for the rest of the tutorial though."
   ]
  },
  {
   "cell_type": "code",
   "execution_count": null,
   "metadata": {},
   "outputs": [],
   "source": [
    "tl.set_backend(\"numpy\")"
   ]
  },
  {
   "cell_type": "code",
   "execution_count": null,
   "metadata": {},
   "outputs": [],
   "source": [
    "X = tl.tensor(np.arange(24).reshape((3, 4, 2)))\n",
    "type(X)"
   ]
  },
  {
   "cell_type": "markdown",
   "metadata": {},
   "source": [
    "# Basic Operations\n",
    "## Unfolding\n",
    "\n",
    "Unfolding consists in rewriting the tensor as a juxtaposition of matrices.\n",
    "\n",
    "Notice that to maintain consistency with Python's zero-based index system, **we start from 0**.\n",
    "\n",
    "We had $X$ defined by:\n",
    "\n",
    "$$X_{1} = \\begin{bmatrix}\n",
    "0 & 2 & 4 & 6\\\\\n",
    "8 & 10 & 12 & 14\n",
    "\\\\ 16 & 18 & 20 & 22\n",
    "\\end{bmatrix}$$\n",
    "\n",
    "and\n",
    "\n",
    "$$X_{2} = \\begin{bmatrix}\n",
    "1 & 3 & 5 & 7\\\\\n",
    "9 & 11 & 13 & 15\n",
    "\\\\ 17 & 19 & 21 & 23\n",
    "\\end{bmatrix}.$$\n",
    "\n",
    "The 0-mode unfolding of it is:\n",
    "\n",
    "$$X_{\\left[0\\right]} = \\begin{bmatrix}\n",
    "0 & 1 & 2 & 3 & 4 & 5 & 6 & 7\\\\\n",
    "8 & 9 & 10 & 11 & 12 & 13 & 14 & 15\\\\\n",
    "16 & 17 & 18 & 19 & 20 & 21 & 22 & 23\\\\\n",
    "\\end{bmatrix}\n",
    "$$\n",
    "\n",
    "The 1-mode unfolding is:\n",
    "$$X_{\\left[1\\right]} = \\begin{bmatrix}\n",
    "0 & 1 & 8 & 9 & 16 & 17\\\\\n",
    "2 & 3 & 10 & 11 & 18 & 19\\\\\n",
    "4 & 5 & 12 & 13 & 20 & 21\\\\\n",
    "6 & 7 & 14 & 15 & 22 & 23\\\\\n",
    "\\end{bmatrix}\n",
    "$$\n",
    "\n",
    "And, of course, the 2-mode unfolding is along the last axis.\n",
    "\n",
    "$$\n",
    "X_{\\left[2\\right]} =\n",
    "\\begin{bmatrix}\n",
    "0 & 2 & 4 & 6 & 8 & 10 & 12 & 14 & 16 & 18 & 20 & 22\\\\\n",
    "1 & 3 & 5 & 7 & 9 & 11 & 13 & 15 & 17 & 19 & 21 & 23\n",
    "\\end{bmatrix}\n",
    "$$\n",
    "\n",
    "### TensorLy\n",
    "We simply do:"
   ]
  },
  {
   "cell_type": "code",
   "execution_count": null,
   "metadata": {},
   "outputs": [],
   "source": [
    "tl.unfold(X, mode = 0)"
   ]
  },
  {
   "cell_type": "code",
   "execution_count": null,
   "metadata": {},
   "outputs": [],
   "source": [
    "tl.unfold(X, mode = 1)"
   ]
  },
  {
   "cell_type": "code",
   "execution_count": null,
   "metadata": {},
   "outputs": [],
   "source": [
    "tl.unfold(X, mode = 2)"
   ]
  },
  {
   "cell_type": "markdown",
   "metadata": {},
   "source": [
    "# Outer Product"
   ]
  },
  {
   "cell_type": "markdown",
   "metadata": {},
   "source": [
    "We now compute the outer product between two arrays:\n",
    "\n",
    "$$ x = \\begin{bmatrix}\n",
    "2 \\\\\n",
    "5 \\\\\n",
    "\\end{bmatrix}\n",
    "$$\n",
    "\n",
    "and \n",
    "\n",
    "$$y = \\begin{bmatrix}\n",
    "9\\\\\n",
    "10\\\\\n",
    "\\end{bmatrix}.\n",
    "$$"
   ]
  },
  {
   "cell_type": "code",
   "execution_count": null,
   "metadata": {},
   "outputs": [],
   "source": [
    "x = tl.tensor(np.array([2, 5]))\n",
    "x"
   ]
  },
  {
   "cell_type": "code",
   "execution_count": null,
   "metadata": {},
   "outputs": [],
   "source": [
    "y = tl.tensor(np.array([9, 10]))\n",
    "y"
   ]
  },
  {
   "cell_type": "markdown",
   "metadata": {},
   "source": [
    "We obtain\n",
    "\n",
    "$$ X = x \\otimes y = xy^{t} = \\begin{bmatrix}18 & 20\\\\ 45 & 50 \\end{bmatrix}.$$"
   ]
  },
  {
   "cell_type": "code",
   "execution_count": null,
   "metadata": {},
   "outputs": [],
   "source": [
    "X = tl.tenalg.tensor_dot(x, y)"
   ]
  },
  {
   "cell_type": "code",
   "execution_count": null,
   "metadata": {},
   "outputs": [],
   "source": [
    "X"
   ]
  },
  {
   "cell_type": "markdown",
   "metadata": {},
   "source": [
    "# CP Decomposition\n",
    "\n",
    "- To give an example of CP decomposition, we are going to consider a simple case. Imagine that we are capturing spatio-temporal data for 90 samples.\n",
    "- We are going to employ a tensor to give a natural representation of these data.\n",
    "- We assume there to be only three distinct \"archetypes\" of data: Case 01, Case 02, and Case 03.\n",
    "- We set the spatial values to simply be Gaussian. As for the temporal values, we have piecewise constant values, with possible jumps when $t = 50$.\n",
    "- We are then going to stack these values. Notice that we will do so in order (the algorithm won't know this, though...).\n",
    "- We want to see what happens if we apply CP decomposition."
   ]
  },
  {
   "cell_type": "markdown",
   "metadata": {},
   "source": [
    "## Data Construction"
   ]
  },
  {
   "cell_type": "code",
   "execution_count": null,
   "metadata": {},
   "outputs": [],
   "source": [
    "num_points = 100\n",
    "space_index = np.linspace(start = -1, stop = 1, num = num_points)\n",
    "bell_curve = norm.pdf(space_index, loc = 0, scale = 0.5).reshape((1, num_points))"
   ]
  },
  {
   "cell_type": "markdown",
   "metadata": {},
   "source": [
    "### Case 01"
   ]
  },
  {
   "cell_type": "code",
   "execution_count": null,
   "metadata": {},
   "outputs": [],
   "source": [
    "case_01 = np.repeat(bell_curve, repeats=num_points, axis = 0).T"
   ]
  },
  {
   "cell_type": "code",
   "execution_count": null,
   "metadata": {},
   "outputs": [],
   "source": [
    "sns.heatmap(case_01, annot=False).set_title(\"Case 01\")"
   ]
  },
  {
   "cell_type": "markdown",
   "metadata": {},
   "source": [
    "### Case 02"
   ]
  },
  {
   "cell_type": "code",
   "execution_count": null,
   "metadata": {},
   "outputs": [],
   "source": [
    "case_02 = np.repeat(bell_curve, repeats=num_points, axis = 0).T\n",
    "case_02[:, 51:100] = case_02[:, 51:100] + 0.1"
   ]
  },
  {
   "cell_type": "code",
   "execution_count": null,
   "metadata": {},
   "outputs": [],
   "source": [
    "sns.heatmap(case_02, annot=False).set_title(\"Case 02\")"
   ]
  },
  {
   "cell_type": "markdown",
   "metadata": {},
   "source": [
    "### Case 03"
   ]
  },
  {
   "cell_type": "code",
   "execution_count": null,
   "metadata": {},
   "outputs": [],
   "source": [
    "case_03 = np.repeat(bell_curve, repeats=num_points, axis = 0).T\n",
    "case_03[:, 51:100] = case_02[:, 51:100] - 0.1"
   ]
  },
  {
   "cell_type": "code",
   "execution_count": null,
   "metadata": {},
   "outputs": [],
   "source": [
    "sns.heatmap(case_03, annot=False).set_title(\"Case 03\")"
   ]
  },
  {
   "cell_type": "code",
   "execution_count": null,
   "metadata": {},
   "outputs": [],
   "source": [
    "X = np.empty(shape = (90, 100, 100))\n",
    "for i in range(30):\n",
    "    X[i, :, :] = case_01 + np.random.normal(10000, 0.1, (100, 100))\n",
    "    X[i + 30, :, :] = case_02 + np.random.normal(10000, 0.1, (100, 100))\n",
    "    X[i + 60, :, :] = case_03 + np.random.normal(10000, 0.1, (100, 100))"
   ]
  },
  {
   "cell_type": "markdown",
   "metadata": {},
   "source": [
    "### Samples\n",
    "We now show the values for three different samples."
   ]
  },
  {
   "cell_type": "code",
   "execution_count": null,
   "metadata": {},
   "outputs": [],
   "source": [
    "sns.heatmap(X[26, :, :], annot=False).set_title(\"Sample 26\")"
   ]
  },
  {
   "cell_type": "code",
   "execution_count": null,
   "metadata": {},
   "outputs": [],
   "source": [
    "sns.heatmap(X[39, :, :], annot=False).set_title(\"Sample 39\")"
   ]
  },
  {
   "cell_type": "code",
   "execution_count": null,
   "metadata": {},
   "outputs": [],
   "source": [
    "sns.heatmap(X[66, :, :], annot=False).set_title(\"Sample 66\")"
   ]
  },
  {
   "cell_type": "code",
   "execution_count": null,
   "metadata": {},
   "outputs": [],
   "source": [
    "X = tl.tensor(X)"
   ]
  },
  {
   "cell_type": "markdown",
   "metadata": {},
   "source": [
    "## CP Decomposition\n",
    "We now perform the decomposition."
   ]
  },
  {
   "cell_type": "code",
   "execution_count": null,
   "metadata": {},
   "outputs": [],
   "source": [
    "weights, factors = parafac(X, rank = 1)"
   ]
  },
  {
   "cell_type": "markdown",
   "metadata": {},
   "source": [
    "## Analysis of the results"
   ]
  },
  {
   "cell_type": "code",
   "execution_count": null,
   "metadata": {},
   "outputs": [],
   "source": [
    "sample_component = pd.DataFrame({'sample_index' : [i for i in np.arange(90)], 'sample' : factors[0].reshape((factors[0].shape[0],))})\n",
    "sns.lineplot(data = sample_component, x = 'sample_index', y = 'sample')"
   ]
  },
  {
   "cell_type": "code",
   "execution_count": null,
   "metadata": {},
   "outputs": [],
   "source": [
    "space_component = pd.DataFrame({'space_index': space_index, 'space' : factors[1].reshape((factors[1].shape[0],))})\n",
    "sns.lineplot(data = space_component, x = 'space_index', y = 'space')"
   ]
  },
  {
   "cell_type": "code",
   "execution_count": null,
   "metadata": {},
   "outputs": [],
   "source": [
    "time_component = pd.DataFrame({'time_index': [i for i in range(num_points)], 'time': factors[2].reshape((factors[2].shape[0],))})\n",
    "sns.lineplot(data = time_component, x = 'time_index', y = 'time')"
   ]
  },
  {
   "cell_type": "markdown",
   "metadata": {},
   "source": [
    "# A Quick Tucker vs CP comparison\n",
    "\n",
    "We are now going to compress an image using the two different approaches.\n",
    "An image is represented by a tensor: we have the number of pixels on the x and y axis, plus three colour levels (red, green and blue).\n",
    "\n",
    "For the experiment, we are going to use the photograph of a raccoon (who kindly agreed).\n",
    "\n",
    "Here we see the raccoon in their best tensor pose:"
   ]
  },
  {
   "cell_type": "code",
   "execution_count": null,
   "metadata": {},
   "outputs": [],
   "source": [
    "face()"
   ]
  },
  {
   "cell_type": "markdown",
   "metadata": {},
   "source": [
    "And here we see them as they would appear in nature:"
   ]
  },
  {
   "cell_type": "code",
   "execution_count": null,
   "metadata": {},
   "outputs": [],
   "source": [
    "plt.gray()\n",
    "plt.imshow(face())\n",
    "plt.show()"
   ]
  },
  {
   "cell_type": "markdown",
   "metadata": {},
   "source": [
    "We are now ready to apply the decompositions to the tensor, to get a compressed image."
   ]
  },
  {
   "cell_type": "code",
   "execution_count": null,
   "metadata": {},
   "outputs": [],
   "source": [
    "image = face()\n",
    "image = tl.tensor(zoom(face(), (0.3, 0.3, 1)), dtype='float64')"
   ]
  },
  {
   "cell_type": "code",
   "execution_count": null,
   "metadata": {},
   "outputs": [],
   "source": [
    "def to_image(tensor):\n",
    "    \"\"\"A convenience function to convert from a float dtype back to uint8\"\"\"\n",
    "    im = tl.to_numpy(tensor)\n",
    "    im -= im.min()\n",
    "    im /= im.max()\n",
    "    im *= 255\n",
    "    return im.astype(np.uint8)"
   ]
  },
  {
   "cell_type": "code",
   "execution_count": null,
   "metadata": {},
   "outputs": [],
   "source": [
    "# Rank of the CP decomposition\n",
    "cp_rank = 25\n",
    "# Rank of the Tucker decomposition\n",
    "tucker_rank = [100, 100, 2]"
   ]
  },
  {
   "cell_type": "code",
   "execution_count": null,
   "metadata": {},
   "outputs": [],
   "source": [
    "# Perform the CP decomposition\n",
    "weights, factors = parafac(image, rank=cp_rank, init='random', tol=10e-6)\n",
    "# Reconstruct the image from the factors\n",
    "cp_reconstruction = tl.cp_to_tensor((weights, factors))"
   ]
  },
  {
   "cell_type": "code",
   "execution_count": null,
   "metadata": {},
   "outputs": [],
   "source": [
    "# Tucker decomposition\n",
    "core, tucker_factors = tucker(image, rank=tucker_rank, init='random', tol=10e-5, random_state=random_state)\n",
    "tucker_reconstruction = tl.tucker_to_tensor((core, tucker_factors))"
   ]
  },
  {
   "cell_type": "code",
   "execution_count": null,
   "metadata": {},
   "outputs": [],
   "source": [
    "# Plotting the original and reconstruction from the decompositions\n",
    "fig = plt.figure()\n",
    "ax = fig.add_subplot(1, 3, 1)\n",
    "ax.set_axis_off()\n",
    "ax.imshow(to_image(image))\n",
    "ax.set_title('original')\n",
    "ax = fig.add_subplot(1, 3, 2)\n",
    "ax.set_axis_off()\n",
    "ax.imshow(to_image(cp_reconstruction))\n",
    "ax.set_title('CP')\n",
    "ax = fig.add_subplot(1, 3, 3)\n",
    "ax.set_axis_off()\n",
    "ax.imshow(to_image(tucker_reconstruction))\n",
    "ax.set_title('Tucker')\n",
    "plt.tight_layout()\n",
    "plt.show()"
   ]
  },
  {
   "cell_type": "markdown",
   "metadata": {},
   "source": [
    "# References\n",
    "\n",
    "1. [TensorLy](http://tensorly.org/stable/index.html)\n",
    "1. [NumPy](https://numpy.org/)\n",
    "1. [SciPy](https://www.scipy.org/)\n",
    "1. [PyTorch](https://pytorch.org/)\n",
    "1. [Seaborn](https://seaborn.pydata.org/index.html)\n",
    "1. https://www.alexejgossmann.com/tensor_decomposition_CP/"
   ]
  }
 ],
 "metadata": {
  "kernelspec": {
   "display_name": "tensor",
   "language": "python",
   "name": "tensor"
  },
  "language_info": {
   "codemirror_mode": {
    "name": "ipython",
    "version": 3
   },
   "file_extension": ".py",
   "mimetype": "text/x-python",
   "name": "python",
   "nbconvert_exporter": "python",
   "pygments_lexer": "ipython3",
   "version": "3.9.1"
  },
  "toc-autonumbering": true,
  "toc-showtags": false
 },
 "nbformat": 4,
 "nbformat_minor": 4
}
